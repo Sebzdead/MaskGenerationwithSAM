{
 "cells": [
  {
   "cell_type": "code",
   "execution_count": 12,
   "metadata": {},
   "outputs": [],
   "source": [
    "import os\n",
    "import numpy as np\n",
    "import cv2\n",
    "import pickle\n",
    "import csv"
   ]
  },
  {
   "cell_type": "markdown",
   "metadata": {},
   "source": [
    "Put all masks and images in the same folder and set folder path and csv name"
   ]
  },
  {
   "cell_type": "code",
   "execution_count": 13,
   "metadata": {},
   "outputs": [],
   "source": [
    "# Folder path containing images and masks\n",
    "folder_path = r'C:\\Users\\sebas\\Documents\\SAM\\example_output'\n",
    "\n",
    "# CSV file path to write the measurements\n",
    "csv_filename = 'ASH.csv'\n",
    "csv_file_path = os.path.join(folder_path, csv_filename)"
   ]
  },
  {
   "cell_type": "code",
   "execution_count": 14,
   "metadata": {},
   "outputs": [
    {
     "name": "stdout",
     "output_type": "stream",
     "text": [
      "Pixel statistics saved to C:\\Users\\sebas\\Documents\\SAM\\test\\ASH.csv\n"
     ]
    }
   ],
   "source": [
    "def calculate_pixel_stats(image_path, mask_path):\n",
    "    # Load the image in 16-bit format\n",
    "    image = cv2.imread(image_path, cv2.IMREAD_UNCHANGED)\n",
    "\n",
    "    # Load and prepare the mask\n",
    "    with open(mask_path, 'rb') as f:\n",
    "        mask = pickle.load(f)\n",
    "        # Convert mask from boolean to 8-bit binary (0 or 255)\n",
    "        mask = (mask.astype(np.uint8) * 255)\n",
    "\n",
    "    # Apply the mask to the 16-bit image\n",
    "    masked_image = cv2.bitwise_and(image, image, mask=mask)\n",
    "\n",
    "    # Calculate the pixel statistics on the masked image\n",
    "    average_intensity = np.mean(masked_image[mask == 255])  # Calculate stats only on masked area\n",
    "    min_intensity = np.min(masked_image[mask == 255])\n",
    "    max_intensity = np.max(masked_image[mask == 255])\n",
    "    std_deviation = np.std(masked_image[mask == 255])\n",
    "\n",
    "    return average_intensity, min_intensity, max_intensity, std_deviation\n",
    "\n",
    "# Open the CSV file in append mode\n",
    "with open(csv_file_path, 'a', newline='') as csvfile:\n",
    "    writer = csv.writer(csvfile)\n",
    "    # Write the header row\n",
    "    writer.writerow(['Filename', 'Average Intensity', 'Min Intensity', 'Max Intensity', 'Standard Deviation'])\n",
    "\n",
    "    # Iterate over the files in the folder\n",
    "    for filename in os.listdir(folder_path):\n",
    "        if filename.endswith('.png'):\n",
    "            # Construct the image and mask paths\n",
    "            image_path = os.path.join(folder_path, filename)\n",
    "            mask_path = os.path.join(folder_path, filename[:-4] + '.pkl')\n",
    "\n",
    "            # Calculate the pixel statistics\n",
    "            average_intensity, min_intensity, max_intensity, std_deviation = calculate_pixel_stats(image_path, mask_path)\n",
    "\n",
    "            # Write the measurements as a new row in the CSV file\n",
    "            writer.writerow([filename, average_intensity, min_intensity, max_intensity, std_deviation])\n",
    "\n",
    "    print(\"Pixel statistics saved to\", csv_file_path)"
   ]
  }
 ],
 "metadata": {
  "kernelspec": {
   "display_name": "base",
   "language": "python",
   "name": "python3"
  },
  "language_info": {
   "codemirror_mode": {
    "name": "ipython",
    "version": 3
   },
   "file_extension": ".py",
   "mimetype": "text/x-python",
   "name": "python",
   "nbconvert_exporter": "python",
   "pygments_lexer": "ipython3",
   "version": "3.12.4"
  }
 },
 "nbformat": 4,
 "nbformat_minor": 2
}
